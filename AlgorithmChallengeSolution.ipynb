{
  "nbformat": 4,
  "nbformat_minor": 0,
  "metadata": {
    "colab": {
      "name": "Getir.ipynb",
      "provenance": [],
      "collapsed_sections": []
    },
    "kernelspec": {
      "name": "python3",
      "display_name": "Python 3"
    },
    "language_info": {
      "name": "python"
    }
  },
  "cells": [
    {
      "cell_type": "code",
      "metadata": {
        "id": "sLVeFc4TkWg9"
      },
      "source": [
        "import json"
      ],
      "execution_count": 1,
      "outputs": []
    },
    {
      "cell_type": "code",
      "metadata": {
        "id": "VUgsT9hZj3RV"
      },
      "source": [
        "#Import input data\n",
        "jsonFile = open('/content/algo_input.json',)\n",
        "jsonObject = json.load(jsonFile)"
      ],
      "execution_count": 2,
      "outputs": []
    },
    {
      "cell_type": "code",
      "metadata": {
        "id": "PxrylXnIvSIS"
      },
      "source": [
        "#Assign variables\n",
        "vehicles = jsonObject[\"vehicles\"]\n",
        "jobs = jsonObject[\"jobs\"]\n",
        "matrix = jsonObject[\"matrix\"]"
      ],
      "execution_count": 3,
      "outputs": []
    },
    {
      "cell_type": "code",
      "metadata": {
        "id": "zdP5OABXpqsl"
      },
      "source": [
        "#Finding best duration\n",
        "def findBestDuration(vehicles,jobs):\n",
        "  arr = []\n",
        "  for vehicle in vehicles:\n",
        "    for job in jobs:\n",
        "      i = vehicle[\"start_index\"]\n",
        "      j = job[\"location_index\"]\n",
        "      json = {\"v_id\": vehicle[\"id\"], \"j_id\": job[\"id\"], \"start_i\":i,\"location_i\":j, \"d\": matrix[i][j]}\n",
        "      arr.append(json)\n",
        "  arr.sort(key = lambda json: json['d'], reverse=False)\n",
        "  return arr[0]"
      ],
      "execution_count": 4,
      "outputs": []
    },
    {
      "cell_type": "code",
      "metadata": {
        "id": "R7Hckp-_6Wvz"
      },
      "source": [
        "#Finding best vehicle-job mathing routes\n",
        "def findBestMatch(vehicles,jobs):\n",
        "  arr = [] \n",
        "  total_delivery_duration = 0\n",
        "  \n",
        "  for i in range(len(vehicles)*len(jobs)):\n",
        "    if len(jobs) <= 0: \n",
        "      break\n",
        "      \n",
        "    #find best duration for vehicles-jobs\n",
        "    bestDurationOutput = findBestDuration(vehicles,jobs)\n",
        "\n",
        "    #total delivery duration update\n",
        "    total_delivery_duration += bestDurationOutput[\"d\"] \n",
        "      \n",
        "    #output json array\n",
        "    arr.append(bestDurationOutput)\n",
        "\n",
        "    #update vehicle start_index in vehicles\n",
        "    list(filter(lambda x: x['id'] == bestDurationOutput[\"v_id\"], vehicles))[0][\"start_index\"] = bestDurationOutput[\"location_i\"]\n",
        "      \n",
        "    #delete completed job from jobs\n",
        "    for j in range(len(jobs)):\n",
        "      if jobs[j][\"id\"] == bestDurationOutput[\"j_id\"]:\n",
        "        del jobs[j]\n",
        "        break\n",
        "\n",
        "  return arr, total_delivery_duration"
      ],
      "execution_count": 5,
      "outputs": []
    },
    {
      "cell_type": "code",
      "metadata": {
        "id": "GlL00u2ZTa6Q"
      },
      "source": [
        "#Create output json data\n",
        "from itertools import groupby\n",
        "arr,total_delivery_duration = findBestMatch(vehicles,jobs)\n",
        "def groupByOutputData(arr):\n",
        "  res = []\n",
        "  delivery_duration = 0\n",
        "  key_func = lambda k: k['v_id']\n",
        "\n",
        "  for k, g in groupby(sorted(arr, key=key_func), key=key_func):\n",
        "      obj = { k : {'jobs': [] ,'delivery_duration': '' }}\n",
        "      for group in g:\n",
        "        delivery_duration += group['d']\n",
        "        obj[k]['delivery_duration'] = delivery_duration\n",
        "        obj[k]['jobs'].append(str(group['j_id']))\n",
        "      res.append(obj)\n",
        "      delivery_duration = 0 \n",
        "  return res"
      ],
      "execution_count": 6,
      "outputs": []
    },
    {
      "cell_type": "code",
      "metadata": {
        "colab": {
          "base_uri": "https://localhost:8080/"
        },
        "id": "eyWssRpNvWPi",
        "outputId": "88f7b099-a37d-4d66-e9d7-7b1895ce3723"
      },
      "source": [
        "#Output json\n",
        "routes = groupByOutputData(arr)\n",
        "routes"
      ],
      "execution_count": 7,
      "outputs": [
        {
          "output_type": "execute_result",
          "data": {
            "text/plain": [
              "[{1: {'delivery_duration': 3516, 'jobs': ['7', '1', '2', '5', '6', '3']}},\n",
              " {3: {'delivery_duration': 226, 'jobs': ['4']}}]"
            ]
          },
          "metadata": {
            "tags": []
          },
          "execution_count": 7
        }
      ]
    },
    {
      "cell_type": "code",
      "metadata": {
        "id": "Dl19hgyPGiVI"
      },
      "source": [
        "#Empty routes added in json output \n",
        "vehicle_ids = [v[\"id\"] for v in vehicles]\n",
        "route_ids = [key for r in routes for key in r.keys()]\n",
        "empty_routes = set(vehicle_ids) - set(route_ids)\n",
        "if len(empty_routes) > 0 :\n",
        "  for i in empty_routes:\n",
        "    routes.append({i: {'jobs': [],'delivery_duration': 0}})"
      ],
      "execution_count": 8,
      "outputs": []
    },
    {
      "cell_type": "code",
      "metadata": {
        "colab": {
          "base_uri": "https://localhost:8080/"
        },
        "id": "AmUlVPh1Ta8p",
        "outputId": "cb3a0f58-127e-42d7-ead2-0811b0eedfc5"
      },
      "source": [
        "#Json Output\n",
        "jsonOutput = {\"total_delivery_duration\" : total_delivery_duration, \"routes\": routes}\n",
        "jsonOutput"
      ],
      "execution_count": 9,
      "outputs": [
        {
          "output_type": "execute_result",
          "data": {
            "text/plain": [
              "{'routes': [{1: {'delivery_duration': 3516,\n",
              "    'jobs': ['7', '1', '2', '5', '6', '3']}},\n",
              "  {3: {'delivery_duration': 226, 'jobs': ['4']}},\n",
              "  {2: {'delivery_duration': 0, 'jobs': []}}],\n",
              " 'total_delivery_duration': 3742}"
            ]
          },
          "metadata": {
            "tags": []
          },
          "execution_count": 9
        }
      ]
    },
    {
      "cell_type": "code",
      "metadata": {
        "id": "Q_aPf8hTTa-6"
      },
      "source": [
        "with open('/content/algo_output.json', 'w') as outfile:\n",
        "    json.dump(jsonOutput, outfile)"
      ],
      "execution_count": 10,
      "outputs": []
    },
    {
      "cell_type": "code",
      "metadata": {
        "id": "drkH_T9TTbA_"
      },
      "source": [
        ""
      ],
      "execution_count": null,
      "outputs": []
    },
    {
      "cell_type": "code",
      "metadata": {
        "id": "ybQlP4XVTbDG"
      },
      "source": [
        ""
      ],
      "execution_count": null,
      "outputs": []
    }
  ]
}